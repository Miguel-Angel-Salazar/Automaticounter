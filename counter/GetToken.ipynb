{
 "cells": [
  {
   "cell_type": "code",
   "execution_count": 1,
   "metadata": {},
   "outputs": [],
   "source": [
    "from urllib import request\n",
    "import json\n",
    "from Tokens import *"
   ]
  },
  {
   "cell_type": "code",
   "execution_count": null,
   "metadata": {},
   "outputs": [
    {
     "name": "stdout",
     "output_type": "stream",
     "text": [
      "b'{\"access_token\":\"eyJhbGciOiJSUzI1NiIsImtpZCI6IjExNDQzRDg2OUYxMzgwODlEREUwOTdENTNBN0YxNzVCNkQwNzIxNzdSUzI1NiIsInR5cCI6ImF0K2p3dCIsIng1dCI6IkVVUTlocDhUZ0luZDRKZlZPbjhYVzIwSElYYyJ9.eyJuYmYiOjE3MzA2ODQ4NzAsImV4cCI6MTczMzI3Njg3MCwiaXNzIjoiaHR0cDovL21zLXNlY3VyaXR5OjUwMDAiLCJhdWQiOiJodHRwOi8vbXMtc2VjdXJpdHk6NTAwMC9yZXNvdXJjZXMiLCJjbGllbnRfaWQiOiJTaWlnb0FQSSIsInN1YiI6IjE2OTE3NjciLCJhdXRoX3RpbWUiOjE3MzA2ODQ4NzAsImlkcCI6ImxvY2FsIiwibmFtZSI6InByZXZleGNvbHNhc0BnbWFpbC5jb20iLCJtYWlsX3NpaWdvIjoicHJldmV4Y29sc2FzQGdtYWlsLmNvbSIsImNsb3VkX3RlbmFudF9jb21wYW55X2tleSI6Ik9SR0FOSVpBQ0lPTlBSRVZFWENPTFBSRVZJU0lPTkVYRVFVSUFMQ09MT01CSUEiLCJ1c2Vyc19pZCI6Ijc1IiwidGVuYW50X2lkIjoiMHgwMDAwMDAwMDAwMDAwMDAwMDAwMDAwMDAwMDc1NTM5MyIsInVzZXJfbGljZW5zZV90eXBlIjoiMCIsInBsYW5fdHlwZSI6IjEyIiwidGVuYW50X3N0YXRlIjoiMSIsIm11bHRpdGVuYW50X2lkIjoiOTYxIiwiY29tcGFuaWVzIjoiMCIsImFwaV9zdWJzY3JpcHRpb25fa2V5IjoiMWQ5YTlmNmI5MmRlNDVjNmI1OGYzNzVlMjlhNmU1OWYiLCJhcGlfdXNlcl9jcmVhdGVkX2F0IjoiMTczMDM5NjQxOSIsImFjY291bnRhbnQiOiJmYWxzZSIsImp0aSI6IkRDN0Q0OEVFNTg0NDUwN0EyNzAxNzYwMjgwMTQ0REIwIiwiaWF0IjoxNzMwNjg0ODcwLCJzY29wZSI6WyJTaWlnb0FQSSJdLCJhbXIiOlsiY3VzdG9tIl19.MvEl_iM9OlFqgiIgtJ3tlfnU8SpB5HkvCIeWRLsZgTkoWzNh-tkz36zVI-XtD7MlvB5n6trm8XqsokrTliot_crGY45B0VkanFknnhuJcpaIMuOCQyM3Bjv4RqC0XcQmBRT5OKwYGrnLgbChEyLgzAwSu0BkaXkHh1eQvTASXNst-Gc_D4ZvmL-_lEisVuVuXfe-myRukC-iqp_EwuO6QSkQ5yrOc5Wt0N2x-bVmubOEGm5YjdFUCuq_i4aunngJKLjP1XAH5YL0CYf3Zm90FKxMy7ON9TWrjRBSAXFh7CtXhBy1DzNCjcvpmi-G46sDiLb7WNF58yVAdHwvftzLPw\",\"expires_in\":2592000,\"token_type\":\"Bearer\",\"scope\":\"SiigoAPI\"}'\n"
     ]
    }
   ],
   "source": [
    "values = {\n",
    "    \"username\": Username , # Crear en el ambiente local las variables de entorno Username y AccessKey en Tokens.py\n",
    "    \"access_key\": AccessKey \n",
    "}\n",
    "data = json.dumps(values).encode('utf-8')\n",
    "\n",
    "\n",
    "headers = {\n",
    "    'Content-Type': 'application/json',\n",
    "    'Partner-Id': '[nombre de la aplicación que estás integrando]'\n",
    "}\n",
    "\n",
    "req = request.Request('https://api.siigo.com/auth', data=data, headers=headers)\n",
    "\n",
    "with request.urlopen(req) as response:\n",
    "    response_body = response.read()\n",
    "\n",
    "print(response_body)\n"
   ]
  },
  {
   "cell_type": "code",
   "execution_count": null,
   "metadata": {},
   "outputs": [],
   "source": [
    "type(response_body)"
   ]
  }
 ],
 "metadata": {
  "kernelspec": {
   "display_name": "base",
   "language": "python",
   "name": "python3"
  },
  "language_info": {
   "codemirror_mode": {
    "name": "ipython",
    "version": 3
   },
   "file_extension": ".py",
   "mimetype": "text/x-python",
   "name": "python",
   "nbconvert_exporter": "python",
   "pygments_lexer": "ipython3",
   "version": "3.12.2"
  }
 },
 "nbformat": 4,
 "nbformat_minor": 2
}
